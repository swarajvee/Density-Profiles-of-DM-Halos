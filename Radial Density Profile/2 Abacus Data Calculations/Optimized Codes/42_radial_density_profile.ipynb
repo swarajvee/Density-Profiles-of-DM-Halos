{
 "cells": [
  {
   "cell_type": "code",
   "execution_count": 1,
   "metadata": {},
   "outputs": [],
   "source": [
    "import glob\n",
    "import os\n",
    "import pandas as pd\n",
    "import numpy as np\n",
    "import matplotlib.pyplot as plt"
   ]
  },
  {
   "cell_type": "markdown",
   "metadata": {},
   "source": [
    "# halo mod dependencies"
   ]
  },
  {
   "cell_type": "code",
   "execution_count": 2,
   "metadata": {},
   "outputs": [],
   "source": [
    "import halomod\n",
    "import hmf\n",
    "from halomod import halo_model\n",
    "from astropy.cosmology import Planck18\n",
    "from hmf.halos import mass_definitions\n",
    "\n",
    "from halomod.concentration import Duffy08\n",
    "from halomod.concentration import GrowthFactor\n",
    "from halomod.profiles import NFW\n",
    "\n",
    "\n",
    "import halomod\n",
    "import hmf\n",
    "from halomod import TracerHaloModel\n",
    "from astropy.cosmology import Planck18\n",
    "from hmf.halos import mass_definitions\n",
    "from halomod.halo_model import DMHaloModel"
   ]
  },
  {
   "cell_type": "markdown",
   "metadata": {},
   "source": [
    "## Global parameters"
   ]
  },
  {
   "cell_type": "code",
   "execution_count": 3,
   "metadata": {},
   "outputs": [],
   "source": [
    "halo_min = 30000\n",
    "halo_max = 31000\n",
    "z=2\n",
    "b = 15\n",
    "particle_mass = 2109081520.453063\n",
    "SOdensityL1 = 208.4022045135498\n",
    "file_dir = f'/Users/swarajv/Education/s10 MSc Major Project/Hubble data/Radial Density Profile/high base/z{z}/'"
   ]
  },
  {
   "cell_type": "markdown",
   "metadata": {},
   "source": [
    "# Halo informations"
   ]
  },
  {
   "cell_type": "code",
   "execution_count": 4,
   "metadata": {},
   "outputs": [],
   "source": [
    "def halo_info(halo_min,halo_max,file_dir):\n",
    "    so_central_X = []\n",
    "    so_central_Y = []\n",
    "    so_central_Z = []\n",
    "    x_L2com_X = []\n",
    "    x_L2com_Y = []\n",
    "    x_L2com_Z = []\n",
    "    particle_number = []\n",
    "    so_radius = []\n",
    "    r100=[]\n",
    "\n",
    "\n",
    "    file_paths = glob.glob(os.path.join(file_dir,'halo_info','*halo_info_*.csv'))\n",
    "    file_paths.sort()\n",
    "    for file_path in file_paths:\n",
    "        print(\"Processing Halo info:\", file_path)\n",
    "        halos = pd.read_csv(file_path)\n",
    "        N = halos['N']\n",
    "        indices =[]\n",
    "        for Ni in N:\n",
    "            if halo_min <= Ni <= halo_max:\n",
    "                index = N[N==Ni].index.to_list()\n",
    "                indices.extend(index)\n",
    "        for indx in indices:\n",
    "            so_central_X.append(halos['SO_central_particle_X'][indx])\n",
    "            so_central_Y.append(halos['SO_central_particle_Y'][indx])\n",
    "            so_central_Z.append(halos['SO_central_particle_Z'][indx])\n",
    "            x_L2com_X.append(halos['x_L2com_X'][indx])\n",
    "            x_L2com_Y.append(halos['x_L2com_Y'][indx])\n",
    "            x_L2com_Z.append(halos['x_L2com_Z'][indx])\n",
    "            particle_number.append(halos['N'][indx])\n",
    "            so_radius.append(halos['SO_radius'][indx])\n",
    "            r100.append(halos['r100_L2com'][indx])\n",
    "        del indices\n",
    "    return so_central_X,so_central_Y,so_central_Z,x_L2com_X,x_L2com_Y,x_L2com_Z,particle_number,so_radius, r100"
   ]
  },
  {
   "cell_type": "code",
   "execution_count": 5,
   "metadata": {},
   "outputs": [
    {
     "name": "stdout",
     "output_type": "stream",
     "text": [
      "Processing Halo info: /Users/swarajv/Education/s10 MSc Major Project/Hubble data/Radial Density Profile/high base/z2/halo_info/halo_info_000.csv\n",
      "Processing Halo info: /Users/swarajv/Education/s10 MSc Major Project/Hubble data/Radial Density Profile/high base/z2/halo_info/halo_info_001.csv\n",
      "Processing Halo info: /Users/swarajv/Education/s10 MSc Major Project/Hubble data/Radial Density Profile/high base/z2/halo_info/halo_info_002.csv\n",
      "Processing Halo info: /Users/swarajv/Education/s10 MSc Major Project/Hubble data/Radial Density Profile/high base/z2/halo_info/halo_info_003.csv\n",
      "Processing Halo info: /Users/swarajv/Education/s10 MSc Major Project/Hubble data/Radial Density Profile/high base/z2/halo_info/halo_info_004.csv\n",
      "Processing Halo info: /Users/swarajv/Education/s10 MSc Major Project/Hubble data/Radial Density Profile/high base/z2/halo_info/halo_info_005.csv\n",
      "Processing Halo info: /Users/swarajv/Education/s10 MSc Major Project/Hubble data/Radial Density Profile/high base/z2/halo_info/halo_info_006.csv\n",
      "Processing Halo info: /Users/swarajv/Education/s10 MSc Major Project/Hubble data/Radial Density Profile/high base/z2/halo_info/halo_info_007.csv\n",
      "Processing Halo info: /Users/swarajv/Education/s10 MSc Major Project/Hubble data/Radial Density Profile/high base/z2/halo_info/halo_info_008.csv\n",
      "Processing Halo info: /Users/swarajv/Education/s10 MSc Major Project/Hubble data/Radial Density Profile/high base/z2/halo_info/halo_info_009.csv\n",
      "Processing Halo info: /Users/swarajv/Education/s10 MSc Major Project/Hubble data/Radial Density Profile/high base/z2/halo_info/halo_info_010.csv\n",
      "Processing Halo info: /Users/swarajv/Education/s10 MSc Major Project/Hubble data/Radial Density Profile/high base/z2/halo_info/halo_info_011.csv\n",
      "Processing Halo info: /Users/swarajv/Education/s10 MSc Major Project/Hubble data/Radial Density Profile/high base/z2/halo_info/halo_info_012.csv\n",
      "Processing Halo info: /Users/swarajv/Education/s10 MSc Major Project/Hubble data/Radial Density Profile/high base/z2/halo_info/halo_info_013.csv\n",
      "Processing Halo info: /Users/swarajv/Education/s10 MSc Major Project/Hubble data/Radial Density Profile/high base/z2/halo_info/halo_info_014.csv\n",
      "Processing Halo info: /Users/swarajv/Education/s10 MSc Major Project/Hubble data/Radial Density Profile/high base/z2/halo_info/halo_info_015.csv\n"
     ]
    }
   ],
   "source": [
    "so_central_X, so_central_Y, so_central_Z, x_L2com_X, x_L2com_Y, x_L2com_Z, particle_number,so_radius, r100 = halo_info(halo_min,halo_max,file_dir)"
   ]
  },
  {
   "cell_type": "markdown",
   "metadata": {},
   "source": [
    "# Subsample Data"
   ]
  },
  {
   "cell_type": "code",
   "execution_count": 6,
   "metadata": {},
   "outputs": [],
   "source": [
    "def subsample_data(halo_min, halo_max, file_dir):\n",
    "    particle_range = f'{halo_min}-{halo_max}'\n",
    "    print(particle_range)\n",
    "    outer_list = []\n",
    "    \n",
    "    file_paths = glob.glob(os.path.join(file_dir, '**', '**', f'*{particle_range}*','*halo_info_*.csv'))\n",
    "    file_paths.sort()\n",
    "    print(\"Total file paths:\", len(file_paths))\n",
    "    \n",
    "    for file_path in file_paths:\n",
    "        print(\"Processing file:\", file_path)\n",
    "        subsamples = pd.read_csv(file_path)\n",
    "\n",
    "        Subsample_A_X = subsamples['Subsample_A_X']\n",
    "        Subsample_A_Y = subsamples['Subsample_A_Y']\n",
    "        Subsample_A_Z = subsamples['Subsample_A_Z']\n",
    "        \n",
    "        Subsample_B_X = subsamples['Subsample_B_X']\n",
    "        Subsample_B_Y = subsamples['Subsample_B_Y']\n",
    "        Subsample_B_Z = subsamples['Subsample_B_Z']\n",
    "        \n",
    "        Subsample_X = np.vstack((Subsample_A_X, Subsample_B_X))\n",
    "        Subsample_Y = np.vstack((Subsample_A_Y, Subsample_B_Y))\n",
    "        Subsample_Z = np.vstack((Subsample_A_Z, Subsample_B_Z))\n",
    "\n",
    "        x = [number for array in Subsample_X for number in array if not np.isnan(number)]\n",
    "        y = [number for array in Subsample_Y for number in array if not np.isnan(number)]\n",
    "        z = [number for array in Subsample_Z for number in array if not np.isnan(number)]\n",
    "\n",
    "        outer_list.append((x, y, z))\n",
    "        \n",
    "        \n",
    "    print(\"Total unique file locations processed:\", len(outer_list))\n",
    "    return outer_list"
   ]
  },
  {
   "cell_type": "code",
   "execution_count": 7,
   "metadata": {},
   "outputs": [
    {
     "name": "stdout",
     "output_type": "stream",
     "text": [
      "30000-31000\n",
      "Total file paths: 23\n",
      "Processing file: /Users/swarajv/Education/s10 MSc Major Project/Hubble data/Radial Density Profile/high base/z2/subsample data/averaging/30000-31000/halo_info_000_3408220002004000_subsample_data_30286.csv\n",
      "Processing file: /Users/swarajv/Education/s10 MSc Major Project/Hubble data/Radial Density Profile/high base/z2/subsample data/averaging/30000-31000/halo_info_000_4405820536003000_subsample_data_30650.csv\n",
      "Processing file: /Users/swarajv/Education/s10 MSc Major Project/Hubble data/Radial Density Profile/high base/z2/subsample data/averaging/30000-31000/halo_info_000_4607020337000000_subsample_data_30012.csv\n",
      "Processing file: /Users/swarajv/Education/s10 MSc Major Project/Hubble data/Radial Density Profile/high base/z2/subsample data/averaging/30000-31000/halo_info_000_900630160001000_subsample_data_30673.csv\n",
      "Processing file: /Users/swarajv/Education/s10 MSc Major Project/Hubble data/Radial Density Profile/high base/z2/subsample data/averaging/30000-31000/halo_info_001_7500780626002000_subsample_data_30069.csv\n",
      "Processing file: /Users/swarajv/Education/s10 MSc Major Project/Hubble data/Radial Density Profile/high base/z2/subsample data/averaging/30000-31000/halo_info_001_7800480605000000_subsample_data_30331.csv\n",
      "Processing file: /Users/swarajv/Education/s10 MSc Major Project/Hubble data/Radial Density Profile/high base/z2/subsample data/averaging/30000-31000/halo_info_001_9501560298002000_subsample_data_30136.csv\n",
      "Processing file: /Users/swarajv/Education/s10 MSc Major Project/Hubble data/Radial Density Profile/high base/z2/subsample data/averaging/30000-31000/halo_info_002_14807430287000000_subsample_data_30638.csv\n",
      "Processing file: /Users/swarajv/Education/s10 MSc Major Project/Hubble data/Radial Density Profile/high base/z2/subsample data/averaging/30000-31000/halo_info_004_22400230473000000_subsample_data_30871.csv\n",
      "Processing file: /Users/swarajv/Education/s10 MSc Major Project/Hubble data/Radial Density Profile/high base/z2/subsample data/averaging/30000-31000/halo_info_005_30306750104000000_subsample_data_30780.csv\n",
      "Processing file: /Users/swarajv/Education/s10 MSc Major Project/Hubble data/Radial Density Profile/high base/z2/subsample data/averaging/30000-31000/halo_info_007_37907990364002000_subsample_data_30197.csv\n",
      "Processing file: /Users/swarajv/Education/s10 MSc Major Project/Hubble data/Radial Density Profile/high base/z2/subsample data/averaging/30000-31000/halo_info_007_38406470576001000_subsample_data_30873.csv\n",
      "Processing file: /Users/swarajv/Education/s10 MSc Major Project/Hubble data/Radial Density Profile/high base/z2/subsample data/averaging/30000-31000/halo_info_008_41304110031000000_subsample_data_30214.csv\n",
      "Processing file: /Users/swarajv/Education/s10 MSc Major Project/Hubble data/Radial Density Profile/high base/z2/subsample data/averaging/30000-31000/halo_info_008_43601140184000000_subsample_data_30103.csv\n",
      "Processing file: /Users/swarajv/Education/s10 MSc Major Project/Hubble data/Radial Density Profile/high base/z2/subsample data/averaging/30000-31000/halo_info_009_51302700646001000_subsample_data_30204.csv\n",
      "Processing file: /Users/swarajv/Education/s10 MSc Major Project/Hubble data/Radial Density Profile/high base/z2/subsample data/averaging/30000-31000/halo_info_012_64205070055001000_subsample_data_30234.csv\n",
      "Processing file: /Users/swarajv/Education/s10 MSc Major Project/Hubble data/Radial Density Profile/high base/z2/subsample data/averaging/30000-31000/halo_info_012_65600920438002000_subsample_data_30189.csv\n",
      "Processing file: /Users/swarajv/Education/s10 MSc Major Project/Hubble data/Radial Density Profile/high base/z2/subsample data/averaging/30000-31000/halo_info_013_68007490352000000_subsample_data_30142.csv\n",
      "Processing file: /Users/swarajv/Education/s10 MSc Major Project/Hubble data/Radial Density Profile/high base/z2/subsample data/averaging/30000-31000/halo_info_013_68207500804000000_subsample_data_30604.csv\n",
      "Processing file: /Users/swarajv/Education/s10 MSc Major Project/Hubble data/Radial Density Profile/high base/z2/subsample data/averaging/30000-31000/halo_info_014_72600660144000000_subsample_data_30825.csv\n",
      "Processing file: /Users/swarajv/Education/s10 MSc Major Project/Hubble data/Radial Density Profile/high base/z2/subsample data/averaging/30000-31000/halo_info_014_75705440515000000_subsample_data_30906.csv\n",
      "Processing file: /Users/swarajv/Education/s10 MSc Major Project/Hubble data/Radial Density Profile/high base/z2/subsample data/averaging/30000-31000/halo_info_015_78602030404000000_subsample_data_30549.csv\n",
      "Processing file: /Users/swarajv/Education/s10 MSc Major Project/Hubble data/Radial Density Profile/high base/z2/subsample data/averaging/30000-31000/halo_info_015_81803940682004000_subsample_data_30322.csv\n",
      "Total unique file locations processed: 23\n"
     ]
    }
   ],
   "source": [
    "X_Y_Z_lists = subsample_data(halo_min, halo_max, file_dir)"
   ]
  },
  {
   "cell_type": "markdown",
   "metadata": {},
   "source": [
    "# radius calculation"
   ]
  },
  {
   "cell_type": "code",
   "execution_count": 8,
   "metadata": {},
   "outputs": [],
   "source": [
    "def radius(x_cent,y_cent,z_cent, subsample_list):\n",
    "    ra=[]\n",
    "    for i in range(len(x_cent)):\n",
    "        rad = np.sqrt(((subsample_list[i][0])-x_cent[i])**2+((subsample_list[i][1])-y_cent[i])**2+(((subsample_list[i][2])-z_cent[i])**2))\n",
    "        ra.append(rad)\n",
    "        \n",
    "    radii=[]\n",
    "    for j in range(len(ra)):\n",
    "        radii.append(np.max(ra[j]))\n",
    "    return radii,ra"
   ]
  },
  {
   "cell_type": "code",
   "execution_count": 22,
   "metadata": {},
   "outputs": [],
   "source": [
    "radi,ra = radius(x_L2com_X, x_L2com_Y, x_L2com_Z, X_Y_Z_lists)\n"
   ]
  },
  {
   "cell_type": "markdown",
   "metadata": {},
   "source": [
    "# comparison of radial density profile"
   ]
  },
  {
   "cell_type": "code",
   "execution_count": 48,
   "metadata": {},
   "outputs": [
    {
     "data": {
      "image/png": "[encoded data removed]",
      "text/plain": [
       "<Figure size 640x480 with 1 Axes>"
      ]
     },
     "metadata": {},
     "output_type": "display_data"
    }
   ],
   "source": [
    "def rad_density_function(rad_list, particle_mass, b,z, part_numb,so_radius):\n",
    "\n",
    "    min_rad=[]\n",
    "    max_rad=[]\n",
    "    for i in range(len(rad_list)):\n",
    "        if np.max(rad_list[i])>so_radius[i]:\n",
    "            max=so_radius[i]\n",
    "\n",
    "            min = np.min(rad_list[i])\n",
    "            #max=np.max(rad_list[i])\n",
    "        min_rad.append(min)\n",
    "        max_rad.append(max)\n",
    "\n",
    "    bineq = np.logspace(np.log10(np.min(min_rad)-0.00001),np.log10(np.max(max_rad)+0.01),b)\n",
    "    \n",
    "    all_histogram=[]\n",
    "    #freq=0\n",
    "    freq = np.zeros(len(bineq) - 1)\n",
    "    for i in range(len(rad_list)):\n",
    "        frequency, bin_edge = np.histogram(rad_list[i], bins=bineq)\n",
    "        freq+=frequency\n",
    "        all_histogram.append(frequency)\n",
    "\n",
    "        #print(frequency)\n",
    "    error = np.std(all_histogram, axis=0)\n",
    "\n",
    "    fraction= np.sum(part_numb)/np.sum(freq)\n",
    "\n",
    "    volume=[]\n",
    "    mass_point=[]\n",
    "    for i in range(len(bineq)-1):\n",
    "        vol = (4/3)*np.pi*(bineq[i+1]**3-bineq[i]**3)\n",
    "        mass_pt =  (bineq[i+1]*bineq[i])**(1/2)\n",
    "        volume.append(vol)\n",
    "        mass_point.append(mass_pt)\n",
    "\n",
    "    density = ((freq*particle_mass)/(volume))*fraction\n",
    "    avg_density = density/len(part_numb)\n",
    "    \n",
    "\n",
    "    radial_density_comoving= ((1+z)**3)* np.array(avg_density)\n",
    "\n",
    "    \n",
    "    plt.loglog()\n",
    "    plt.errorbar(mass_point, radial_density_comoving,yerr=error,fmt='o', capsize=3)\n",
    "    \n",
    "    \n",
    "    plt.scatter(mass_point,radial_density_comoving,label='Abacus Data')\n",
    "    \n",
    "    \n",
    "\n",
    "def radial_density_prof_halomod(part_numb, part_mass, radius,r100,z,SOdensityL1):\n",
    "    h=0.6736\n",
    "    Ob0 = 0.02237/h**2\n",
    "    Om0 = 0.315192\n",
    "    n_s = 0.9649\n",
    "    sigma_8 = 0.807952\n",
    "\n",
    "    hm=DMHaloModel(cosmo_model=Planck18,cosmo_params={'Om0':Om0, 'H0':h*100, 'Ob0':Ob0},n=n_s,sigma_8=sigma_8 , z=z,\n",
    "               mdef_model=mass_definitions.SOMean,mdef_params={'overdensity':SOdensityL1},halo_profile_model='NFWInf',halo_concentration_model='Ludlow16')\n",
    "    #print(TracerHaloModel.parameter_info())\n",
    "\n",
    "    min_rad=[]\n",
    "    max_rad=[]\n",
    "    for i in range(len(radius)):\n",
    "        min = np.min(radius[i])\n",
    "        max=np.max(radius[i])\n",
    "        min_rad.append(min)\n",
    "        max_rad.append(max)\n",
    "\n",
    "    r = np.logspace(np.log10(np.min(min_rad)-0.00001), np.log10(np.max(r100)+0.001), 1000)\n",
    "    indices = np.argsort(r)\n",
    "\n",
    "    total_mass=0\n",
    "    for i in range(len(part_numb)):\n",
    "        total_mass+= part_numb[i]*part_mass\n",
    "    avg_mass=total_mass/len(part_numb)\n",
    "\n",
    "    rad_density_halomod = hm.halo_profile.rho(r=r[indices], m=avg_mass)\n",
    "\n",
    "    plt.loglog()\n",
    "\n",
    "    plt.plot(r[indices], rad_density_halomod,'--',lw=0.7,label='NFW profile',color='red')\n",
    "\n",
    "rad_density_function(ra, particle_mass, b,z,particle_number,so_radius)\n",
    "radial_density_prof_halomod(particle_number, particle_mass,ra,r100,z,SOdensityL1)\n",
    "\n",
    "\n",
    "plt.title(f'Radial density Profile (b/w {halo_min}-{halo_max} subsamples)')\n",
    "plt.xlabel('Radius $Mpc h^{-1}$')\n",
    "plt.ylabel(r'Radial Density, $[h^2\\cdot M_{\\odot}\\text{Mpc}^-3]$')\n",
    "plt.grid()\n",
    "plt.legend()\n",
    "#plt.savefig('rad_fig.csv')\n",
    "plt.show()\n"
   ]
  }
 ],
 "metadata": {
  "kernelspec": {
   "display_name": "astrophysics",
   "language": "python",
   "name": "python3"
  },
  "language_info": {
   "codemirror_mode": {
    "name": "ipython",
    "version": 3
   },
   "file_extension": ".py",
   "mimetype": "text/x-python",
   "name": "python",
   "nbconvert_exporter": "python",
   "pygments_lexer": "ipython3",
   "version": "3.11.6"
  }
 },
 "nbformat": 4,
 "nbformat_minor": 2
}
